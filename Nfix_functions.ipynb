{
 "cells": [
  {
   "cell_type": "markdown",
   "id": "522c0f0e-9a36-472b-babd-f0d060eb006a",
   "metadata": {},
   "source": [
    "## Look at Nfix temperature respons functions from: \n",
    "Bytnerowicz et al 2022 \n",
    "       vs. \n",
    "Houlton et al 2008\n"
   ]
  },
  {
   "cell_type": "code",
   "execution_count": null,
   "id": "b4801d74-eeed-4533-b6b8-adc92dfb907c",
   "metadata": {},
   "outputs": [],
   "source": [
    "import os\n",
    "\n",
    "import numpy as np\n",
    "import pandas as pd\n",
    "\n",
    "import matplotlib\n",
    "import matplotlib.pyplot as plt"
   ]
  },
  {
   "cell_type": "code",
   "execution_count": null,
   "id": "30c547c7-1b83-466d-8e7b-c839c76e7278",
   "metadata": {},
   "outputs": [],
   "source": [
    "# define functions\n",
    "\n",
    "def Bytnerowicz_noAcc(Tmin_fix, Tmax_fix,Topt_fix,tc_soisno):\n",
    "    Nfix = (((Tmax_fix-tc_soisno)/(Tmax_fix-Topt_fix))* \\\n",
    "             (((tc_soisno-Tmin_fix)/(Topt_fix-Tmin_fix)))** \\\n",
    "             ((Topt_fix- Tmin_fix)/(Tmax_fix-Topt_fix)) )\n",
    "    return(Nfix)\n",
    "\n",
    "def Houlton(a_fix, b_fix,C_fix,tc_soisno):\n",
    "    Nfix = (1.25 ** (a_fix + b_fix * tc_soisno * (1. - 0.5 * tc_soisno / c_fix)) )\n",
    "    return(Nfix)"
   ]
  },
  {
   "cell_type": "code",
   "execution_count": null,
   "id": "23976222-8f4c-4573-8798-7a60124727bc",
   "metadata": {},
   "outputs": [],
   "source": [
    "## Tom's function for temperate systems\n",
    "Tmin = -2.04\n",
    "Topt = 32.10\n",
    "Tmax = 43.98\n",
    "tsoi = range(-10,50)\n",
    "temp = np.full(len(tsoi), np.nan)\n",
    "for i in range(len(tsoi)):\n",
    "    if tsoi[i] > Tmin and tsoi[i] < Tmax:\n",
    "        temp[i] = Bytnerowicz_noAcc(Tmin,Tmax,Topt,tsoi[i])\n",
    "    else:\n",
    "        temp[i] = 0."
   ]
  },
  {
   "cell_type": "code",
   "execution_count": null,
   "id": "6f1c3ffd-787f-431e-b1b8-ea9061fbcd7b",
   "metadata": {},
   "outputs": [],
   "source": [
    "## Tom's function for tropical systems\n",
    "Tmin = 7.04\n",
    "Topt = 33.22\n",
    "Tmax = 45.35\n",
    "trop = np.full(len(tsoi), np.nan)\n",
    "for i in range(len(tsoi)):\n",
    "    if tsoi[i] > Tmin and tsoi[i] < Tmax:\n",
    "        trop[i] = Bytnerowicz_noAcc(Tmin,Tmax,Topt,tsoi[i])\n",
    "    else:\n",
    "        trop[i] = 0."
   ]
  },
  {
   "cell_type": "code",
   "execution_count": null,
   "id": "7e546c40-5b20-4865-9847-959a59c13e42",
   "metadata": {},
   "outputs": [],
   "source": [
    "## Houlton function\n",
    "a_fix =-3.61999988555908\n",
    "b_fix = 0.270000010728836 \n",
    "c_fix = 25.1499996185303\n",
    "houl = np.full(len(tsoi), np.nan)\n",
    "for i in range(len(tsoi)):\n",
    "    houl[i] = Houlton(a_fix,b_fix,c_fix,tsoi[i])"
   ]
  },
  {
   "cell_type": "code",
   "execution_count": null,
   "id": "ab16445d-413f-4039-be96-5ca008cb46c9",
   "metadata": {},
   "outputs": [],
   "source": [
    "plt.plot(tsoi,temp, label='Temperate')\n",
    "plt.plot(tsoi,trop, label='Tropical') \n",
    "plt.plot(tsoi,houl, label='Houlton') \n",
    "plt.xlabel('Soil temp ˚C')\n",
    "plt.ylabel('Nfix - normalized')\n",
    "plt.legend() ;"
   ]
  },
  {
   "cell_type": "markdown",
   "id": "b8d5d260-807e-4f68-8e2e-606ba3f3fdc3",
   "metadata": {},
   "source": [
    "#### Costs are then inverted in FUN, setting min N:C = 6 "
   ]
  },
  {
   "cell_type": "code",
   "execution_count": null,
   "id": "6e33c34f-9092-459b-ab19-d9b36db30a66",
   "metadata": {},
   "outputs": [],
   "source": [
    "s_fix = -6\n",
    "cost_temp = (-1*s_fix)/np.where(temp>0,temp,np.nan)\n",
    "cost_trop = (-1*s_fix)/np.where(trop>0,trop,np.nan)\n",
    "cost_houl = (-1*s_fix)/np.where(houl>0,houl,np.nan)"
   ]
  },
  {
   "cell_type": "code",
   "execution_count": null,
   "id": "9617557e-7622-4bb5-9b79-c8f270aec3a6",
   "metadata": {},
   "outputs": [],
   "source": [
    "plt.plot(tsoi,cost_temp, label='Temperate')\n",
    "plt.plot(tsoi,cost_trop, label='Tropical') \n",
    "plt.plot(tsoi,cost_houl, label='Houlton') \n",
    "plt.xlabel('Soil temp ˚C')\n",
    "plt.ylabel('Nfix - costs (N:C)')\n",
    "plt.ylim(5,50)\n",
    "plt.legend() ;"
   ]
  },
  {
   "cell_type": "code",
   "execution_count": null,
   "id": "b51d3deb-9526-4d0c-921d-633142a3beb6",
   "metadata": {},
   "outputs": [],
   "source": []
  }
 ],
 "metadata": {
  "kernelspec": {
   "display_name": "NPL 2022b",
   "language": "python",
   "name": "npl-2022b"
  },
  "language_info": {
   "codemirror_mode": {
    "name": "ipython",
    "version": 3
   },
   "file_extension": ".py",
   "mimetype": "text/x-python",
   "name": "python",
   "nbconvert_exporter": "python",
   "pygments_lexer": "ipython3",
   "version": "3.8.13"
  }
 },
 "nbformat": 4,
 "nbformat_minor": 5
}
